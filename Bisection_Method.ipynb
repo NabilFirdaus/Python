{
  "nbformat": 4,
  "nbformat_minor": 0,
  "metadata": {
    "colab": {
      "provenance": [],
      "authorship_tag": "ABX9TyO9/246RLLKPwBcl7PD5HPE",
      "include_colab_link": true
    },
    "kernelspec": {
      "name": "python3",
      "display_name": "Python 3"
    },
    "language_info": {
      "name": "python"
    }
  },
  "cells": [
    {
      "cell_type": "markdown",
      "metadata": {
        "id": "view-in-github",
        "colab_type": "text"
      },
      "source": [
        "<a href=\"https://colab.research.google.com/github/NabilFirdaus/Python/blob/main/Bisection_Method.ipynb\" target=\"_parent\"><img src=\"https://colab.research.google.com/assets/colab-badge.svg\" alt=\"Open In Colab\"/></a>"
      ]
    },
    {
      "cell_type": "code",
      "source": [
        "import numpy as np\n",
        "\n",
        "def my_bisection(f,a,b,tol):\n",
        "\n",
        "    if np.sign(f(a)) == np.sign(f(b)):\n",
        "        raise Exception(\n",
        "         \"The scalars a and b do not bound a root\")\n",
        "        \n",
        "    m = (a+b)/2\n",
        "\n",
        "    if np.abs(f(m)) < tol:\n",
        "      \n",
        "         return m\n",
        "    elif np.sign(f(a)) ==np.sign(f(m)):\n",
        "\n",
        "         return my_bisection(f,m,b,tol)\n",
        "    elif np.sign(f(b)) == np.sign(f(m)):\n",
        "\n",
        "          return my_bisection(f,a,m,tol)\n"
      ],
      "metadata": {
        "id": "BQoyYLD1JM5S"
      },
      "execution_count": 15,
      "outputs": []
    },
    {
      "cell_type": "code",
      "source": [
        "f = lambda x: x**2 - 2\n",
        "\n",
        "r1 = my_bisection(f,0,2,0.1)\n",
        "print(\"r1 =\",r1)\n",
        "r01 = my_bisection(f,0,2,0.01)\n",
        "print(\"r01 =\",r01)\n",
        "\n",
        "print(\"f(r1) =\",f(r1))\n",
        "print(\"f(r01) =\",f(r01))"
      ],
      "metadata": {
        "colab": {
          "base_uri": "https://localhost:8080/"
        },
        "id": "YKlnGuPEJRO5",
        "outputId": "aaf78fad-58aa-489a-b4a6-98eea158725c"
      },
      "execution_count": 16,
      "outputs": [
        {
          "output_type": "stream",
          "name": "stdout",
          "text": [
            "r1 = 1.4375\n",
            "r01 = 1.4140625\n",
            "f(r1) = 0.06640625\n",
            "f(r01) = -0.00042724609375\n"
          ]
        }
      ]
    }
  ]
}